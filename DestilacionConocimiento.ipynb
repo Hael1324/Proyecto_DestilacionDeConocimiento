{
 "cells": [
  {
   "cell_type": "code",
   "execution_count": 2,
   "id": "fa75dbf6-38c8-4606-8c99-054fd8e718a5",
   "metadata": {},
   "outputs": [],
   "source": [
    "import medmnist\n",
    "from medmnist import PathMNIST\n",
    "import torch\n",
    "from torchvision import transforms\n",
    "from torch.utils.data import DataLoader"
   ]
  },
  {
   "cell_type": "markdown",
   "id": "61ffd140-e1bd-4e26-979e-9c7b01c24954",
   "metadata": {},
   "source": [
    "# Importación del conjunto de datos"
   ]
  },
  {
   "cell_type": "code",
   "execution_count": 3,
   "id": "2b9d9e39-f093-41c9-83ac-02b2f3301a6a",
   "metadata": {},
   "outputs": [
    {
     "name": "stdout",
     "output_type": "stream",
     "text": [
      "MedMNIST Version: 3.0.2\n"
     ]
    }
   ],
   "source": [
    "print(f\"MedMNIST Version: {medmnist.__version__}\")"
   ]
  },
  {
   "cell_type": "code",
   "execution_count": 4,
   "id": "dfaa2528-af9a-44ce-8654-7f7513338136",
   "metadata": {},
   "outputs": [],
   "source": [
    "train_dataset = PathMNIST(split='train', download=True)\n",
    "test_dataset = PathMNIST(split='test', download=True)\n",
    "val_dataset = PathMNIST(split='val', download=True)"
   ]
  },
  {
   "cell_type": "code",
   "execution_count": 5,
   "id": "d90178c9-06a1-40cc-9811-6306a842261d",
   "metadata": {},
   "outputs": [],
   "source": [
    "train_loader = DataLoader(train_dataset, batch_size=64, shuffle=True)\n",
    "test_loader = DataLoader(test_dataset, batch_size=64, shuffle=False)\n",
    "val_loader = DataLoader(val_dataset, batch_size=64, shuffle=False)"
   ]
  },
  {
   "cell_type": "code",
   "execution_count": 6,
   "id": "a4d61202-d0a9-478c-9aea-626acf56b045",
   "metadata": {},
   "outputs": [
    {
     "name": "stdout",
     "output_type": "stream",
     "text": [
      "Tamaño del conjunto de entrenamiento: 89996\n",
      "Tamaño del conjunto de prueba: 7180\n",
      "Tamaño del conjunto de validación: 10004\n"
     ]
    }
   ],
   "source": [
    "print(f\"Tamaño del conjunto de entrenamiento: {len(train_dataset)}\")\n",
    "print(f\"Tamaño del conjunto de prueba: {len(test_dataset)}\")\n",
    "print(f\"Tamaño del conjunto de validación: {len(val_dataset)}\")"
   ]
  },
  {
   "cell_type": "markdown",
   "id": "36c8e405-1da8-40f2-b6ae-f244d5ba1198",
   "metadata": {},
   "source": [
    "# Modelo maestro"
   ]
  },
  {
   "cell_type": "code",
   "execution_count": null,
   "id": "75acad56-4a0f-4a3a-a5f2-5e7ad097f514",
   "metadata": {},
   "outputs": [],
   "source": []
  },
  {
   "cell_type": "markdown",
   "id": "f8e9631f-3a7f-4cdc-a189-f30f6a12f2a0",
   "metadata": {},
   "source": [
    "# Modelo estudiante"
   ]
  },
  {
   "cell_type": "code",
   "execution_count": null,
   "id": "3cbf82cc-c928-4557-9079-2be77e83b8dd",
   "metadata": {},
   "outputs": [],
   "source": []
  }
 ],
 "metadata": {
  "kernelspec": {
   "display_name": "Python 3 (ipykernel)",
   "language": "python",
   "name": "python3"
  },
  "language_info": {
   "codemirror_mode": {
    "name": "ipython",
    "version": 3
   },
   "file_extension": ".py",
   "mimetype": "text/x-python",
   "name": "python",
   "nbconvert_exporter": "python",
   "pygments_lexer": "ipython3",
   "version": "3.12.2"
  }
 },
 "nbformat": 4,
 "nbformat_minor": 5
}
