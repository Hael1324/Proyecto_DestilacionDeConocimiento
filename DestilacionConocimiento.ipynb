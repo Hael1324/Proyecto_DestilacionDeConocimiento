{
  "nbformat": 4,
  "nbformat_minor": 0,
  "metadata": {
    "colab": {
      "provenance": []
    },
    "kernelspec": {
      "name": "python3",
      "display_name": "Python 3"
    },
    "language_info": {
      "name": "python"
    }
  },
  "cells": [
    {
      "cell_type": "code",
      "execution_count": null,
      "metadata": {
        "id": "AASR0d1iPfhI"
      },
      "outputs": [],
      "source": [
        "import torch\n",
        "import torch.nn as nn\n",
        "import torch.optim as optim\n",
        "from torch.utils.data import DataLoader\n",
        "from torchvision import transforms\n",
        "from medmnist import INFO, PathMNIST\n",
        "import medmnist"
      ]
    },
    {
      "cell_type": "markdown",
      "source": [
        "# Importación del conjunto de datos"
      ],
      "metadata": {
        "id": "LaxucdysQPXj"
      }
    },
    {
      "cell_type": "code",
      "source": [
        "# Información del dataset\n",
        "info = INFO['pathmnist']\n",
        "DataClass = getattr(medmnist, info['python_class'])"
      ],
      "metadata": {
        "id": "svTc35S6QOwp"
      },
      "execution_count": null,
      "outputs": []
    },
    {
      "cell_type": "code",
      "source": [
        "# Transforms (normalización de [0, 255] a [0.0, 1.0])\n",
        "transform = transforms.Compose([\n",
        "    transforms.ToTensor(),\n",
        "    transforms.Normalize(mean=[.5], std=[.5])\n",
        "])"
      ],
      "metadata": {
        "id": "oEC-UuPUQW-_"
      },
      "execution_count": null,
      "outputs": []
    },
    {
      "cell_type": "code",
      "source": [
        "# Cargar datasets\n",
        "train_dataset = DataClass(split='train', transform=transform, download=True)\n",
        "val_dataset = DataClass(split='val', transform=transform, download=True)\n",
        "test_dataset = DataClass(split='test', transform=transform, download=True)"
      ],
      "metadata": {
        "id": "2eDN3-ZL7EBN"
      },
      "execution_count": null,
      "outputs": []
    },
    {
      "cell_type": "code",
      "source": [
        "# DataLoaders\n",
        "train_loader = DataLoader(train_dataset, batch_size=64, shuffle=True)\n",
        "val_loader = DataLoader(val_dataset, batch_size=64, shuffle=False)\n",
        "test_loader = DataLoader(test_dataset, batch_size=64, shuffle=False)"
      ],
      "metadata": {
        "id": "UefVnDuzQgFI"
      },
      "execution_count": null,
      "outputs": []
    },
    {
      "cell_type": "code",
      "source": [
        "#Revisamos el tamaño de los conjuntos de datos\n",
        "print(f\"Tamaño del conjunto de entrenamiento: {len(train_dataset)}\")\n",
        "print(f\"Tamaño del conjunto de prueba: {len(test_dataset)}\")\n",
        "print(f\"Tamaño del conjunto de validación: {len(val_dataset)}\")"
      ],
      "metadata": {
        "colab": {
          "base_uri": "https://localhost:8080/"
        },
        "id": "KVfmGxymQjM6",
        "outputId": "4c28ef56-8b9a-4f5a-e4e9-e0c44947f7f8"
      },
      "execution_count": null,
      "outputs": [
        {
          "output_type": "stream",
          "name": "stdout",
          "text": [
            "Tamaño del conjunto de entrenamiento: 89996\n",
            "Tamaño del conjunto de prueba: 7180\n",
            "Tamaño del conjunto de validación: 10004\n"
          ]
        }
      ]
    },
    {
      "cell_type": "markdown",
      "source": [
        "# Modelo maestro"
      ],
      "metadata": {
        "id": "jxjeR-bSQoA5"
      }
    },
    {
      "cell_type": "markdown",
      "source": [
        "## Prueba 2"
      ],
      "metadata": {
        "id": "a_Sa0YJ1-emv"
      }
    },
    {
      "cell_type": "code",
      "source": [
        "class CNN(nn.Module):\n",
        "    def __init__(self, num_classes=9):\n",
        "        super(CNN, self).__init__()\n",
        "        self.conv_layer = nn.Sequential(\n",
        "            nn.Conv2d(3, 32, kernel_size=3, padding=1),\n",
        "            nn.ReLU(),\n",
        "            nn.MaxPool2d(2),\n",
        "            nn.Conv2d(32, 64, kernel_size=3, padding=1),\n",
        "            nn.ReLU(),\n",
        "            nn.MaxPool2d(2)\n",
        "        )\n",
        "        self.fc_layer = nn.Sequential(\n",
        "            nn.Flatten(),\n",
        "            nn.Linear(64 * 7 * 7, 128),\n",
        "            nn.ReLU(),\n",
        "            nn.Linear(128, num_classes)\n",
        "        )\n",
        "\n",
        "    def forward(self, x):\n",
        "        x = self.conv_layer(x)\n",
        "        x = self.fc_layer(x)\n",
        "        return x\n"
      ],
      "metadata": {
        "id": "0fk9uI57-qr2"
      },
      "execution_count": null,
      "outputs": []
    },
    {
      "cell_type": "code",
      "source": [
        "device = torch.device('cuda' if torch.cuda.is_available() else 'cpu')\n",
        "\n",
        "model = CNN(num_classes=9).to(device)\n",
        "criterion = nn.CrossEntropyLoss()\n",
        "optimizer = optim.Adam(model.parameters(), lr=0.001)\n",
        "\n",
        "# Entrenamiento simple\n",
        "for epoch in range(10):\n",
        "    model.train()\n",
        "    running_loss = 0.0\n",
        "    for images, labels in train_loader:\n",
        "        images, labels = images.to(device), labels.squeeze().long().to(device)\n",
        "\n",
        "        optimizer.zero_grad()\n",
        "        outputs = model(images)\n",
        "        loss = criterion(outputs, labels)\n",
        "        loss.backward()\n",
        "        optimizer.step()\n",
        "\n",
        "        running_loss += loss.item()\n",
        "\n",
        "    print(f\"Epoch {epoch+1}, Loss: {running_loss/len(train_loader):.4f}\")\n"
      ],
      "metadata": {
        "colab": {
          "base_uri": "https://localhost:8080/"
        },
        "id": "exXInILc-t93",
        "outputId": "0b4edc51-064a-4ace-eafe-7d18778006b2"
      },
      "execution_count": null,
      "outputs": [
        {
          "output_type": "stream",
          "name": "stdout",
          "text": [
            "Epoch 1, Loss: 0.7479\n",
            "Epoch 2, Loss: 0.4707\n",
            "Epoch 3, Loss: 0.3606\n",
            "Epoch 4, Loss: 0.2967\n",
            "Epoch 5, Loss: 0.2438\n",
            "Epoch 6, Loss: 0.2055\n",
            "Epoch 7, Loss: 0.1717\n",
            "Epoch 8, Loss: 0.1469\n",
            "Epoch 9, Loss: 0.1219\n",
            "Epoch 10, Loss: 0.1054\n"
          ]
        }
      ]
    },
    {
      "cell_type": "markdown",
      "source": [
        "# Modelo estudiante"
      ],
      "metadata": {
        "id": "UA5afRO1QrPs"
      }
    },
    {
      "cell_type": "code",
      "source": [],
      "metadata": {
        "id": "Gcd7XzjBQtzl"
      },
      "execution_count": null,
      "outputs": []
    }
  ]
}